{
 "cells": [
  {
   "cell_type": "markdown",
   "metadata": {},
   "source": [
    "\n",
    "## Topics\n",
    "\n",
    "Below is a summary of the topics covered in this lecture:\n",
    "\n",
    "- Constants\n",
    "\t- Numbers\n",
    "\t- Characters\n",
    "\t- Symbols\n",
    "- Operators\n",
    "\t- Types\n",
    "\t- Orders\n",
    "- Objects and Data Access\n",
    "\t- Vectors\n",
    "\t- Matrices\n",
    "\t- Data Frames\n",
    "\t- Lists\n",
    "\t- Date and Time\n",
    "- Attributes\n",
    "\n",
    "## Constants\n",
    "\n",
    "Constants are the basic building blocks for data objects in R, which include numbers, character values, and symbols.\n",
    "\n",
    "### Numeric Vectors\n",
    "\n",
    "R provides multiple ways to specify numbers.\n",
    "\n"
   ]
  },
  {
   "cell_type": "code",
   "execution_count": null,
   "metadata": {
    "autoscroll": false,
    "collapsed": true
   },
   "outputs": [],
   "source": [
    "# Assign a number to a variable\n",
    "a <- 1.1\n",
    "\n",
    "# Examine the type of the variable.\n",
    "# By default, numbers in R are interpreted as\n",
    "# double-precision numbers.\n",
    "#\n",
    "typeof(a)\n",
    "\n",
    "# Q: What if you assign an integer? What is the type?\n",
    "\n",
    "# Put multiple numbers in the same vector\n",
    "b <- c(1, 2.4, 1e-2, 0xA, 5:7)\n",
    "\n",
    "# Examine the content of the a vector\n",
    "print(b)\n",
    "\n",
    "# Q: Why does 5:7 becomes 5.00, 6.00, 7.00"
   ]
  },
  {
   "cell_type": "markdown",
   "metadata": {},
   "source": [
    "\n",
    "R allows a lot of flexibility when entering numbers. However, **there is a limit to the size and precision of numbers that R can represent**.\n",
    "\n"
   ]
  },
  {
   "cell_type": "code",
   "execution_count": null,
   "metadata": {
    "autoscroll": false,
    "collapsed": true
   },
   "outputs": [],
   "source": [
    "# The limit of precision\n",
    "2^1023 + 1 == 2^1023\n",
    "\n",
    "# The limit of size\n",
    "2^1024"
   ]
  },
  {
   "cell_type": "markdown",
   "metadata": {},
   "source": [
    "\n",
    "### Character Vectors\n",
    "\n",
    "A character object contains all the text between a pair of single or double quotes. **R does not distinguish single and double quotes as long as they are consistent**.\n",
    "\n"
   ]
  },
  {
   "cell_type": "code",
   "execution_count": null,
   "metadata": {
    "autoscroll": false,
    "collapsed": true
   },
   "outputs": [],
   "source": [
    "c <- c('Penn', \"State\")\n",
    "print(c)"
   ]
  },
  {
   "cell_type": "markdown",
   "metadata": {},
   "source": [
    "\n",
    "### Symbols\n",
    "\n",
    "A symbol is the name of a variable in R. We can assign different values to the same symbol. Symbols:\n",
    "\n",
    "- are case sensitive;\n",
    "- generally start with a character and then other symbols;\n",
    "- may contain speicial symbols like `.` and `_`;\n",
    "\n",
    "## Operators\n",
    "\n",
    "Here is a partial list of the supported operators in R. These operators are very common in R and some of them can be very confusing. But once you have fully grasped what they are doing, they become very convenient.\n",
    "\n",
    "| Operator |    Type    |        Description       |\n",
    "|:--------:|:----------:|:------------------------:|\n",
    "| `^`      | Arithmetic | Exponent                 |\n",
    "| `%%`     | Arithmetic | Modulus                  |\n",
    "| `==`     | Relational | Equal to                 |\n",
    "| `!=`     | Relational | Not equal to             |\n",
    "| `!`      | Logical    | Logical NOT              |\n",
    "| `&`      | Logical    | Element-wise logical AND |\n",
    "| `&&`     | Logical    | Logical AND              |\n",
    "| `|`      | Logical    | Element-wise logical OR  |\n",
    "| `||`     | Logical    | Logical OR               |\n",
    "| `<-`     | Assignment | Leftwards assignment     |\n",
    "\n",
    "*Table generated using [Tables Generator](https://tablesgenerator.com/markdown_tables)*.\n",
    "\n",
    "Try to anticipate the results or the output messages of the following expressions and then run the command to validate your answers.\n",
    "\n"
   ]
  },
  {
   "cell_type": "code",
   "execution_count": null,
   "metadata": {
    "Rmd_chunk_options": "results=F",
    "autoscroll": false,
    "collapsed": true
   },
   "outputs": [],
   "source": [
    "# Comparing different objects\n",
    "TRUE == 1\n",
    "\n",
    "# Element-wise logical operation\n",
    "0:2 & T\n",
    "\n",
    "# Logical operation\n",
    "0:2 && T"
   ]
  },
  {
   "cell_type": "markdown",
   "metadata": {},
   "source": [
    "\n",
    "Orders of operators are also important. Most of the time, you can use expect their behaviors by intuition. But there are cases that intuition might not work. Try to anticipate the results or the output messages of the following expressions and then run the command to validate your answers.\n",
    "\n"
   ]
  },
  {
   "cell_type": "code",
   "execution_count": null,
   "metadata": {
    "Rmd_chunk_options": "results=F",
    "autoscroll": false,
    "collapsed": true
   },
   "outputs": [],
   "source": [
    "! 1 == 2\n",
    "\n",
    "(! 1) == 2\n",
    "\n",
    "3 < 4 & 5\n",
    "\n",
    "3 < (4 & 5)"
   ]
  },
  {
   "cell_type": "markdown",
   "metadata": {},
   "source": [
    "\n",
    "## Objects and Data Access\n",
    "\n",
    "### Vectors\n",
    "\n",
    "Vector is a basic data structure in R. It contains element of **the same type**. The data types can be logical, integer, double, character, complex or raw. A vector's type can be checked with the `typeof()` function.\n",
    "\n",
    "Another important property of a vector is its length. This is the number of elements in the vector and can be checked with the function `length()`.\n",
    "\n",
    "The following code block shows some common operations on vectors.\n",
    "\n"
   ]
  },
  {
   "cell_type": "code",
   "execution_count": null,
   "metadata": {
    "Rmd_chunk_options": "results=F",
    "autoscroll": false,
    "collapsed": true
   },
   "outputs": [],
   "source": [
    "# Create vectors\n",
    "a <- c(1, 4, 5)\n",
    "b <- 1:5\n",
    "c <- seq(from = -1, to = 2, by = 0.5)\n",
    "d <- c('Bob' = 95, 'Tom' = 100)\n",
    "\n",
    "# Access vector values\n",
    "a[2]\n",
    "b[2:3]\n",
    "c[c(1, 3)]\n",
    "c[c(1.2, 3.9)]\n",
    "d['Bob']\n",
    "a[-1]\n",
    "a[c(T, T, F)]\n",
    "c[c <= 0]\n",
    "\n",
    "# Q: By comparing the last two examples, can you\n",
    "# guess why using logical vector as index would work?\n",
    "#\n",
    "# Q: What if you are indexing a value that does not exist?\n",
    "# What error message would you get? What do you think\n",
    "# of the way R handles the situation?"
   ]
  },
  {
   "cell_type": "markdown",
   "metadata": {},
   "source": [
    "\n",
    "### Matrices\n",
    "\n",
    "A matrix is a collection of data elements arranged in a **two-dimensional rectangular** layout.\n",
    "\n",
    "The following code block shows some common operations on matricex.\n",
    "\n"
   ]
  },
  {
   "cell_type": "code",
   "execution_count": null,
   "metadata": {
    "Rmd_chunk_options": "results=F",
    "autoscroll": false,
    "collapsed": true
   },
   "outputs": [],
   "source": [
    "# Create a matrix\n",
    "mat <- matrix(1:10, nrow = 2, byrow = F)\n",
    "\n",
    "# Examine the shape of the matrix\n",
    "dim(mat)\n",
    "\n",
    "# Examine the values\n",
    "print(mat)\n",
    "\n",
    "# Access data values\n",
    "mat[1, 2]\n",
    "mat[2, c(2, 5)]\n",
    "mat[, c(3, 5)]\n",
    "\n",
    "# Transpose the matrix\n",
    "t(mat)\n",
    "\n",
    "# Coerce the matrix into a vector\n",
    "# Again, please anticipate the result before you run the code.\n",
    "#\n",
    "as.vector(mat)"
   ]
  },
  {
   "cell_type": "markdown",
   "metadata": {},
   "source": [
    "\n",
    "### Data Frames\n",
    "\n",
    "A data frame is a two-dimensional structure in which each column contains values of one variable and each row contains one set of values from each column. In other words, a data frame has variables by columns and records/observations by rows.\n",
    "\n",
    "Following are the characteristics of a data frame.\n",
    "\n",
    "- The column names should be non-empty.\n",
    "- The row names should be unique.\n",
    "- The data stored in a data frame can be of numeric, factor or character type.\n",
    "- Each column should contain same number of data items.\n",
    "\n"
   ]
  },
  {
   "cell_type": "code",
   "execution_count": null,
   "metadata": {
    "Rmd_chunk_options": "results=F",
    "autoscroll": false,
    "collapsed": true
   },
   "outputs": [],
   "source": [
    "# Create the data frame.\n",
    "emp.data <- data.frame(\n",
    "   emp_id = c (1:5),\n",
    "   emp_name = c(\"Rick\",\"Dan\",\"Michelle\",\"Ryan\",\"Gary\"),\n",
    "   salary = c(623.3,515.2,611.0,729.0,843.25))\n",
    "\n",
    "# Examine a data frame\n",
    "print(emp.data)\n",
    "dim(emp.data)\n",
    "str(emp.data)\n",
    "\n",
    "nrow(emp.data)\n",
    "ncol(emp.data)\n",
    "\n",
    "# Q: Does the last two functions work\n",
    "# for matrices? How about for vectors?\n",
    "\n",
    "# Same methods can be used to access values\n",
    "# in a data frame as in a matrix.\n",
    "#\n",
    "# Data frames also supports the dollar\n",
    "# sign operation for value access.\n",
    "#\n",
    "emp.data$emp_id"
   ]
  },
  {
   "cell_type": "markdown",
   "metadata": {},
   "source": [
    "\n",
    "Since a matrix and a data frame look very similar, how do you decide between a matrix and a data frame which one to use?\n",
    "\n",
    "- data characteristics\n",
    "- function requirement\n",
    "- memory limit\n",
    "\n",
    "### Lists\n",
    "\n",
    "A list is a generic vector capable of containing various objects.\n",
    "\n"
   ]
  },
  {
   "cell_type": "code",
   "execution_count": null,
   "metadata": {
    "Rmd_chunk_options": "results=F",
    "autoscroll": false,
    "collapsed": true
   },
   "outputs": [],
   "source": [
    "# Create a list\n",
    "a <- 1:5\n",
    "b <- c('Penn', \"State\")\n",
    "c <- c(T, F, F)\n",
    "x <- list(a = a, b = b, c = c)\n",
    "\n",
    "# Examine a list\n",
    "length(x)\n",
    "names(x)\n",
    "\n",
    "# List slicing\n",
    "x[2]\n",
    "\n",
    "# list member reference\n",
    "x[[2]]\n",
    "\n",
    "# Q: Use the function class() to examine the\n",
    "# above two expression, what do you find?\n",
    "#\n",
    "\n",
    "# Remove a member\n",
    "x[-2]"
   ]
  },
  {
   "cell_type": "markdown",
   "metadata": {},
   "source": [
    "\n",
    "### Date and Time\n",
    "\n",
    "Representing dates and times are more complicated than what we have learned so far. Dates and times have their own notations, leap years, time zones, and more. These chracteristics of dates and times make them different from other objects.\n",
    "\n",
    "R provides three date/time classes which include `Date`, `POSIXct`, and `POSIXlt`. Let's learn how to use them.\n",
    "\n"
   ]
  },
  {
   "cell_type": "code",
   "execution_count": null,
   "metadata": {
    "Rmd_chunk_options": "results=F, message=F",
    "autoscroll": false,
    "collapsed": true
   },
   "outputs": [],
   "source": [
    "# If you are only dealing with dates\n",
    "one.date <- as.Date('2019-08-29')\n",
    "two.dates <- as.Date(c('2019/01/01', '2019/04/01'), format = \"%Y/%m/%d\")\n",
    "week.days <- seq(from = one.date, length.out = 5, by = 'week')\n",
    "\n",
    "# Examine properties of vectors\n",
    "length(one.date)\n",
    "weekdays(week.days)\n",
    "\n",
    "# Operations on Dates\n",
    "two.dates - one.date\n",
    "difftime(one.date, two.dates, units = 'hours')\n",
    "diff(week.days, lag = 2)\n",
    "\n",
    "# If you are dealing with dates and times\n",
    "time.1 <- as.POSIXct('2019-08-29 12:05:00', tz = 'UTC')\n",
    "time.2 <- strptime('2019/08/29 12:05', format = '%Y/%m/%d %H:%M')\n",
    "\n",
    "# Q: Use the function identical() to check\n",
    "# whether time.1 and time.2 are the same. Why so?\n",
    "#\n",
    "\n",
    "# Operations on Times\n",
    "time.1 - time.2\n",
    "time.1 - 4 * 60\n",
    "\n",
    "# Extract partial information as characters\n",
    "format(time.1, format = \"%m/%d\")\n",
    "format(time.2, format = \"%Y %Z\")\n",
    "\n",
    "# Extract partial information from POSIXlt\n",
    "attributes(time.2)\n",
    "time.2$mday\n",
    "\n",
    "# Extract partial information from POSIXct\n",
    "library(lubridate)\n",
    "year(time.1)\n",
    "wday(time.1, label = T)\n",
    "tz(time.2)\n",
    "\n",
    "# Change time zone\n",
    "with_tz(time.2, tzone = 'UTC')"
   ]
  },
  {
   "cell_type": "markdown",
   "metadata": {},
   "source": [
    "\n",
    "Codes are referenced from [Using Dates and Times in R](https://www.r-bloggers.com/using-dates-and-times-in-r/). [Worldtime Buddy](https://www.worldtimebuddy.com/edt-to-pdt-converter) provides a nice-looking visualization of converting times.\n",
    "\n",
    "## Attributes\n",
    "\n",
    "Objects in R can have many properties associated with them, called *attributes*. These properties explain what an object represents and how it should be interpreted. Most of the time, the only difference between two similar objects is that they have difference attributes. Here is a list of functions to examine some common attributes.\n",
    "\n",
    "- `class`\n",
    "- `dim`\n",
    "- `length`\n",
    "- `names`\n",
    "- `ncol`\n",
    "- `colnames`\n",
    "- `attributes`\n"
   ]
  }
 ],
 "metadata": {
  "Rmd_header": {
   "author": "Weiming Hu",
   "date": "August 29, 2019",
   "output": "pdf_document",
   "title": "R Basics 1"
  },
  "kernelspec": {
   "display_name": "R",
   "language": "R",
   "name": "ir"
  },
  "language_info": {
   "codemirror_mode": "r",
   "file_extension": ".r",
   "mimetype": "text/x-r-source",
   "name": "R",
   "pygments_lexer": "r"
  }
 },
 "nbformat": 4,
 "nbformat_minor": 0
}
