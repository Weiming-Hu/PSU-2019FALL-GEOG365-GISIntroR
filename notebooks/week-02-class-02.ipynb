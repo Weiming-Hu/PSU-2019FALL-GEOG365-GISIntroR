{
 "cells": [
  {
   "cell_type": "markdown",
   "metadata": {},
   "source": [
    "\n",
    "## Topics\n",
    "\n",
    "Below is a summary of the topics covered in this lecture:\n",
    "\n",
    "- Revisit For Loops\n",
    "- Data Exploration\n",
    "\t- Summary and Table\n",
    "\t- Quantile, Range, and Mean\n",
    "\t- Subset\n",
    "\t- Dimension\n",
    "\t- Merge\n",
    "\t- Sort\n",
    "\n",
    "## Revisit Loops\n",
    "\n",
    "In this section, we are going to specifically talk about for loops.\n",
    "\n",
    "For loops are all about **repetition**. A loop is a way to repeat a sequence of instructions under certain conditions.\n",
    "\n",
    "The general syntax is as follows:\n",
    "\n",
    "```\n",
    "for (val in sequence) {\n",
    "  # For each item in the sequence,\n",
    "  # the statement is evaluated.\n",
    "  #\n",
    "  statement\n",
    "}\n",
    "```\n",
    "\n",
    "To write a for loop, you need to follow the **preallocate-sequence-body** procedues. Here is an example.\n",
    "\n",
    "If we want to create a data frame with 4 randomly generated columns, we would do the followings in a world **without** for loops.\n",
    "\n"
   ]
  },
  {
   "cell_type": "code",
   "execution_count": null,
   "metadata": {
    "Rmd_chunk_options": "results=F",
    "autoscroll": false,
    "collapsed": true
   },
   "outputs": [],
   "source": [
    "# Preallocate memory to store the values\n",
    "mat <- matrix(NA, nrow = 10, ncol = 4)\n",
    "\n",
    "# Generate random numbers and then repeat manually\n",
    "mat[, 1] <- runif(10)\n",
    "mat[, 2] <- runif(10)\n",
    "mat[, 3] <- runif(10)\n",
    "mat[, 4] <- runif(10)\n",
    "\n",
    "# Print out the results\n",
    "print(mat)"
   ]
  },
  {
   "cell_type": "markdown",
   "metadata": {},
   "source": [
    "\n",
    "But **code redundancy** is a bad thing in programming. We do not want to copy and paste. Image if you have 1 thousand columns, are you going to copy and paste 1 thousand times? We need for loops.\n",
    "\n"
   ]
  },
  {
   "cell_type": "code",
   "execution_count": null,
   "metadata": {
    "Rmd_chunk_options": "results=F",
    "autoscroll": false,
    "collapsed": true
   },
   "outputs": [],
   "source": [
    "# Preallocate\n",
    "mat <- matrix(NA, nrow = 10, ncol = 4)\n",
    "\n",
    "# Sequence\n",
    "for (i.col in 1:ncol(mat)) {\n",
    "\n",
    "\t# Body\n",
    "\n",
    "\t# Uncomment the following line to see how i.col is changing\n",
    "\t# cat('The current column index is', i.col, '\\n')\n",
    "\n",
    "\tmat[, i.col] <- runif(nrow(mat))\n",
    "}\n",
    "\n",
    "print(mat)"
   ]
  },
  {
   "cell_type": "markdown",
   "metadata": {},
   "source": [
    "\n",
    "Let's look at another example. Below is a piece of code with a for loop.\n",
    "\n"
   ]
  },
  {
   "cell_type": "code",
   "execution_count": null,
   "metadata": {
    "autoscroll": false,
    "collapsed": true
   },
   "outputs": [],
   "source": [
    "# Preallocate\n",
    "df <- data.frame(\n",
    "\tname = c('Tom', 'Bob', 'Alice'),\n",
    "\tage = c(24, 19, 21),\n",
    "\tstringsAsFactors = F)           # Don't convert strings to categories\n",
    "\n",
    "num.rows <- nrow(df)\n",
    "\n",
    "# Sequence\n",
    "for (i in seq_len(num.rows)) {\n",
    "\n",
    "\t# Body\n",
    "\tif (df$age[i] >= 20) {\n",
    "\t\tprint(df$name[i])\n",
    "\t}\n",
    "}\n",
    "\n",
    "# Q: Can you flatten the for loop and generate the same results?\n",
    "# Q: Can you translate the for loop to a while loop?"
   ]
  },
  {
   "cell_type": "markdown",
   "metadata": {},
   "source": [
    "\n",
    "## Data Exploration\n",
    "\n",
    "At this point, we have learned the basic data types and functions in R. Let's put them into practice.\n",
    "\n",
    "R comes with built-in data sets for learning. First, we are going to examine the data set for plant growth.\n",
    "\n"
   ]
  },
  {
   "cell_type": "code",
   "execution_count": null,
   "metadata": {
    "Rmd_chunk_options": "results=F",
    "autoscroll": false,
    "collapsed": true
   },
   "outputs": [],
   "source": [
    "# Load the data set\n",
    "data(\"PlantGrowth\")\n",
    "\n",
    "# What did we just load?\n",
    "class(PlantGrowth)\n",
    "\n",
    "# I still do not know what we just loaded ...\n",
    "str(PlantGrowth)\n",
    "\n",
    "# But there are ellipses. How big is the data set?\n",
    "dim(PlantGrowth)\n",
    "\n",
    "# OK. I want to know some statistics about the data set.\n",
    "summary(PlantGrowth$weight)\n",
    "\n",
    "# Well. But I would like summary information broken up by groups\n",
    "tapply(PlantGrowth$weight, PlantGrowth$group, summary)"
   ]
  },
  {
   "cell_type": "markdown",
   "metadata": {},
   "source": [
    "\n",
    "You should have a general idea by now what we have just loaded. Of course, you can visualize them. Introducing the powerful visulization package from Dr. Hadley Wickham, `ggplot2`.\n",
    "\n"
   ]
  },
  {
   "cell_type": "code",
   "execution_count": null,
   "metadata": {
    "autoscroll": false,
    "collapsed": true
   },
   "outputs": [],
   "source": [
    "# Install the package if you have not done so\n",
    "# install.packages('ggplot2)\n",
    "#\n",
    "library(ggplot2)\n",
    "\n",
    "# Generate a boxplot for all groups\n",
    "ggplot(data = PlantGrowth) +\n",
    "\tgeom_boxplot(mapping = aes(x = group, y = weight)) +\n",
    "\tlabs(x = 'Group', y = 'Weight')"
   ]
  },
  {
   "cell_type": "markdown",
   "metadata": {},
   "source": [
    "\n",
    "`ggplot2` is a powerful visualization tool that we are going to use intensively throughout the course. It provides a whole system for representing graphics in R. At this point, please remember the template for using `ggplot2` functions.\n",
    "\n",
    "```\n",
    "ggplot(data = <DATA>) +\n",
    "  <GEOM_FUNCTION>(\n",
    "    mapping = aes(<MAPPINGS>),\n",
    "    stat = <STAT>,\n",
    "    position = <POSITION>\n",
    "  ) +\n",
    "  <COORDINATE_FUNCTION> +\n",
    "  <FACET_FUNCTION>\n",
    "```\n",
    "\n",
    "It turns out the measures are actually from three plants with different treatments at different times. The biologist kindly provided us the time records for each observation. Let's try to append the information to our data frame and visualize the addition.\n",
    "\n"
   ]
  },
  {
   "cell_type": "code",
   "execution_count": null,
   "metadata": {
    "autoscroll": false,
    "collapsed": true
   },
   "outputs": [],
   "source": [
    "# Load an R data file. Please notice the added variable\n",
    "# in your global environment called 'time.records'.\n",
    "#\n",
    "load('assets/plant-growth-time.RData')\n",
    "\n",
    "# Q: Can you use what we have learned to examine\n",
    "# what we have just loaded?\n",
    "\n",
    "# Add these records to our data frame\n",
    "PlantGrowth <- cbind(PlantGrowth, time.records)\n",
    "\n",
    "# Visualization\n",
    "ggplot(data = PlantGrowth) +\n",
    "\tgeom_line(mapping = aes(x = time.records, y = weight, color = group)) +\n",
    "\tlabs(x = 'Time', y = 'Weight')"
   ]
  },
  {
   "cell_type": "markdown",
   "metadata": {},
   "source": [
    "\n",
    "Does it look strange? Why does the plants lose weight? We contact the biologist and then he told us that **the measurements are not sorted by time**! Therefore, we need to sort the measurements.\n",
    "\n"
   ]
  },
  {
   "cell_type": "code",
   "execution_count": null,
   "metadata": {
    "autoscroll": false,
    "collapsed": true
   },
   "outputs": [],
   "source": [
    "# So the data are not sorted. We need to sort the data per group.\n",
    "sorted.measurements <- tapply(PlantGrowth$weight, PlantGrowth$group, sort)\n",
    "\n",
    "# The returned result is a list, convert them to a vector\n",
    "sorted.measurements <- unlist(sorted.measurements, use.names = F)\n",
    "\n",
    "# Now measurements are sorted by groups. We can assign these values back\n",
    "PlantGrowth$weight <- sorted.measurements\n",
    "\n",
    "# Generate the same plot\n",
    "ggplot(data = PlantGrowth) +\n",
    "\tgeom_line(mapping = aes(x = time.records, y = weight, color = group)) +\n",
    "\tlabs(x = 'Time', y = 'Weight') +\n",
    "\tguides(color = guide_legend(title = 'Type'))"
   ]
  },
  {
   "cell_type": "markdown",
   "metadata": {},
   "source": [
    "\n",
    "*The story is just a mockup*.\n",
    "\n",
    "You can get a list of all the built-in data sets in R by running `data()`. Try the above code for a different data set, for example, **ChickWeight**.\n",
    "\n"
   ]
  }
 ],
 "metadata": {
  "Rmd_header": {
   "author": "Weiming Hu",
   "date": "September 5, 2019",
   "output": "pdf_document",
   "title": "Data Preparation 1"
  },
  "kernelspec": {
   "display_name": "R",
   "language": "R",
   "name": "ir"
  },
  "language_info": {
   "codemirror_mode": "r",
   "file_extension": ".r",
   "mimetype": "text/x-r-source",
   "name": "R",
   "pygments_lexer": "r"
  }
 },
 "nbformat": 4,
 "nbformat_minor": 0
}
