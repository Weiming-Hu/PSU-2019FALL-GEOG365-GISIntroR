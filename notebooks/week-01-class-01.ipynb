{
 "cells": [
  {
   "cell_type": "markdown",
   "metadata": {},
   "source": [
    "\n",
    "## Introduction\n",
    "\n",
    "Welcome to GEOG 365, Introduction to GIS Programming. The course materials will be in the format of R markdown files. Please make yourself familiar with the file format. We will also talk through the syntax during classes.\n",
    "\n",
    "[R markdown](https://rmarkdown.rstudio.com/) documents focus on the reproducibility. It provides a solution for integrating your programming codes into a formal document, e.g. PDF or HTML. It is also a tagged language so that you format your document by specifying various tags. A popular editor for R markdown is [RStudio](https://www.rstudio.com/).\n",
    "\n",
    "R markdown cheat sheet can be found [here](https://www.rstudio.com/wp-content/uploads/2016/03/rmarkdown-cheatsheet-2.0.pdf). The file can also be accessed from Canvas.\n",
    "\n",
    "A *typical code* block looks like this.\n",
    "\n"
   ]
  },
  {
   "cell_type": "code",
   "execution_count": null,
   "metadata": {
    "autoscroll": false,
    "collapsed": true
   },
   "outputs": [],
   "source": [
    "# This is an example code\n",
    "print('Hello, world!')"
   ]
  }
 ],
 "metadata": {
  "Rmd_header": {
   "author": "Weiming Hu",
   "date": "August 27, 2019",
   "output": "pdf_document",
   "title": "Introduction to R and RStudio"
  },
  "kernelspec": {
   "display_name": "R",
   "language": "R",
   "name": "ir"
  },
  "language_info": {
   "codemirror_mode": "r",
   "file_extension": ".r",
   "mimetype": "text/x-r-source",
   "name": "R",
   "pygments_lexer": "r"
  }
 },
 "nbformat": 4,
 "nbformat_minor": 0
}
