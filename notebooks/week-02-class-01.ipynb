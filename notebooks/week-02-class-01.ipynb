{
 "cells": [
  {
   "cell_type": "markdown",
   "metadata": {},
   "source": [
    "\n",
    "## Topics\n",
    "\n",
    "Below is a summary of the topics covered in this lecture:\n",
    "\n",
    "- Control Structures\n",
    "\t- Branching\n",
    "\t- Looping\n",
    "- Functions\n",
    "- Environment and Scope\n",
    "- Special values\n",
    "- R Coding Standard from RNS\n",
    "\n",
    "## Control Structures\n",
    "\n",
    "Most programs have two general flow control features: **iteration** and **alternation**. Iteration is done via loops, alternation via *if-then-else* branches.\n",
    "\n",
    "### Looping\n",
    "\n",
    "Here is a basic for-loop that assign values to a preallocated vector in sequence. Note that the pair of braces `{ }` is used to open and close **a block of code**.\n",
    "\n"
   ]
  },
  {
   "cell_type": "code",
   "execution_count": null,
   "metadata": {
    "Rmd_chunk_options": "results=F",
    "autoscroll": false,
    "collapsed": true
   },
   "outputs": [],
   "source": [
    "# Create an empty vector with a specific length\n",
    "vec <- vector(mode = 'numeric', length = 10)\n",
    "print(vec)\n",
    "\n",
    "# Loop through each position and assign a value accordingly\n",
    "for (i in seq_len(10)) {\n",
    "\tvec[i] <- i * 2\n",
    "}\n",
    "\n",
    "# The above for statement is equivalent to the following\n",
    "for (i in 1:length(vec)) {\n",
    "\tvec[i] <- i * 2\n",
    "}\n",
    "\n",
    "# Examine vector values after the assignment\n",
    "print(vec)\n",
    "\n",
    "# Q: Magic number is usually not a good idea in programming.\n",
    "# What would you replace the magic number 10 in the first\n",
    "# for-loop statement with?\n",
    "#"
   ]
  },
  {
   "cell_type": "markdown",
   "metadata": {},
   "source": [
    "\n",
    "Here is a basic while-loop example that achieves the same task.\n",
    "\n"
   ]
  },
  {
   "cell_type": "code",
   "execution_count": null,
   "metadata": {
    "Rmd_chunk_options": "results=F",
    "autoscroll": false,
    "collapsed": true
   },
   "outputs": [],
   "source": [
    "# Create an empty vector with the length\n",
    "vec <- vector(mode = 'numeric', length = 10)\n",
    "\n",
    "# Specify where we start counting\n",
    "i <- 1\n",
    "\n",
    "while (i < length(vec)) {\n",
    "\tvec[i] <- i * 2\n",
    "\n",
    "\t# Try to comment the following line, assign 1 to i\n",
    "\t# (line 70 in the script), and then run the loop.\n",
    "\t# See what would happen.\n",
    "\t#\n",
    "\ti <- i + 1\n",
    "}\n",
    "\n",
    "print(vec)\n",
    "\n",
    "# Q: Do you spot a difference between this and the\n",
    "# previous results? We just had our FIRST bug!\n",
    "# Could you fix it?\n",
    "#"
   ]
  },
  {
   "cell_type": "markdown",
   "metadata": {},
   "source": [
    "\n",
    "### Branching\n",
    "\n"
   ]
  },
  {
   "cell_type": "code",
   "execution_count": null,
   "metadata": {
    "Rmd_chunk_options": "out.width = \"300px\", fig.align=\"center\", echo=F",
    "autoscroll": false,
    "collapsed": true
   },
   "outputs": [],
   "source": [
    "knitr::include_graphics(\"figures/branching.jpg\")"
   ]
  },
  {
   "cell_type": "markdown",
   "metadata": {},
   "source": [
    "\n",
    "Branching is an important mechanism in computer programs, and in daily lives, of course. A branch allows you to execute some code if certain conditions are met, and do something else in other cases.\n",
    "Below are some examples for branching.\n",
    "\n"
   ]
  },
  {
   "cell_type": "code",
   "execution_count": null,
   "metadata": {
    "Rmd_chunk_options": "results=F",
    "autoscroll": false,
    "collapsed": true
   },
   "outputs": [],
   "source": [
    "x <- 5\n",
    "y <- 10\n",
    "\n",
    "# Use the relational operator as a condition\n",
    "if (x == y) {\n",
    "\tprint(\"x and y are the same.\")\n",
    "} else if (x < y) {\n",
    "\tprint('x is less than y.')\n",
    "} else {\n",
    "\tprint('y is a mysterious number.')\n",
    "}\n",
    "\n",
    "x <- 'b'\n",
    "\n",
    "# Use the return from a function as a condition\n",
    "if (is.element(x, letters)) {\n",
    "\tprint(paste(x, 'is a letter.'))\n",
    "} else {\n",
    "\tprint(paste(x, 'is NOT a letter.'))\n",
    "}"
   ]
  },
  {
   "cell_type": "markdown",
   "metadata": {},
   "source": [
    "\n",
    "## Functions\n",
    "\n",
    "We now have already used many functions that come with R. A function is a block of **organized**, **reusable** code that is used to perform a **single**, **related** action. Some other words which might refer to functions inlcude *methods*, *sub-routines*, and *procedures*. A function is usually composed of 1) a function name, 2) a parameter list, 3) the function body, and 4) a return type.\n",
    "\n",
    "R already provides thousands of functions. If you already know the name of the function, you can use the question mark plus the function name to open up the help page, or the documentation, for the function, for example, `?nrow`.\n",
    "\n",
    "### Default Arguments\n",
    "\n",
    "In the documentation of `nrow`, the argument `x` does not have a default value attached. So the following code is bound to fail.\n",
    "\n"
   ]
  },
  {
   "cell_type": "code",
   "execution_count": null,
   "metadata": {
    "Rmd_chunk_options": "error=T",
    "autoscroll": false,
    "collapsed": true
   },
   "outputs": [],
   "source": [
    "# No arguments are provided\n",
    "nrow()\n",
    "\n",
    "# Q: Try to look at the documentation for the function matrix().\n",
    "# Will the code fail if we do not pass any arguments?\n",
    "#\n",
    "# Q: How about the function as.vector()?\n",
    "#"
   ]
  },
  {
   "cell_type": "markdown",
   "metadata": {},
   "source": [
    "\n",
    "### Writing Functions\n",
    "\n",
    "But sometimes, you will still need to write your own functions for a specific purpose. Maybe you are not able to find a function to do exactly what you want to do, or you simply want to **modulize** a portion of your code.\n",
    "\n",
    "The syntax for function definition is:\n",
    "\n",
    "```\n",
    "function_name <- function(arg_1, arg_2, ...) {\n",
    "   Function body\n",
    "   return\n",
    "}\n",
    "```\n",
    "\n",
    "Here is an example of defining a function which takes the length of the output vector and calculates the Fibonacci sequence.\n",
    "\n",
    "A Fibonacci sequence is the intteger sequence of `0, 1, 1, 2, 3, 5, 8, ...`. The first two terms are 0 and 1. All other terms are obtained by adding the preceding two terms. This means to say the nth term is the sum of (n-1)th and (n-2)th term.\n",
    "\n"
   ]
  },
  {
   "cell_type": "code",
   "execution_count": null,
   "metadata": {
    "autoscroll": false,
    "collapsed": true
   },
   "outputs": [],
   "source": [
    "# Define\n",
    "fibo.seq <- function(len) {\n",
    "\tfibo <- numeric(length = len)\n",
    "\n",
    "\tfibo[1] <- 0\n",
    "\tfibo[2] <- 1\n",
    "\n",
    "\tfor (i in 3:len) {\n",
    "\t\tfibo[i] <- fibo[i-1] + fibo[i-2]\n",
    "\t}\n",
    "\n",
    "\treturn(fibo)\n",
    "}\n",
    "\n",
    "# Change the function argument and see how the\n",
    "# result would change.\n",
    "#\n",
    "print(fibo.seq(10))\n",
    "\n",
    "# Q: Do you find this piece of code easy to understand?\n",
    "# What would you add to this piece of code?\n",
    "#\n",
    "# Q: Do you think this function is reliable?\n",
    "#"
   ]
  },
  {
   "cell_type": "markdown",
   "metadata": {},
   "source": [
    "\n",
    "In this case, there is already a function for Fibonacci Sequence calculation. We can, instead of implementing our own, use the package.\n",
    "\n"
   ]
  },
  {
   "cell_type": "code",
   "execution_count": null,
   "metadata": {
    "Rmd_chunk_options": "results=F",
    "autoscroll": false,
    "collapsed": true
   },
   "outputs": [],
   "source": [
    "# If package is not found, you need to install it first.\n",
    "# install.packages('numbers')\n",
    "#\n",
    "# Load the library so R can find the function\n",
    "library(numbers)\n",
    "\n",
    "# Call the function from the package by name. R will\n",
    "# automatically find the package which the function belongs to.\n",
    "#\n",
    "fibonacci(10)\n",
    "\n",
    "# Q: Do results look the same? How would you find out the cause?\n",
    "# Q: What are the pros and cons when using a third-party package?\n",
    "# Q: How would you contribute to the R community?\n",
    "#"
   ]
  },
  {
   "cell_type": "markdown",
   "metadata": {},
   "source": [
    "\n",
    "## Environment and Scope\n",
    "\n"
   ]
  },
  {
   "cell_type": "code",
   "execution_count": null,
   "metadata": {
    "autoscroll": false,
    "collapsed": true
   },
   "outputs": [],
   "source": [
    "# I'm going to define a bunch of symbols for you to play with.\n",
    "df <- data.frame(id = 1:10, value = runif(10))\n",
    "l <- list(a = 'A', b = 1:5, c = NA)\n",
    "v <- 1:10\n",
    "func.1 <- fibonacci\n",
    "func.2 <- mean"
   ]
  },
  {
   "cell_type": "markdown",
   "metadata": {},
   "source": [
    "\n",
    "The panel (by default) at the top right of the RStudio window shows all the symbols defined in the **global environemnt**. Some of the symbols will respond to clicks. Try them out.\n",
    "\n",
    "## Special Values\n",
    "\n",
    "R language supports several null-able values and it is relatively important to understand how these values behave, when making data pre-processing and data munging. R supports:\n",
    "\n",
    "- `NA`: An object and is returned when an expression or function results in an undefined value. In R language, NULL (capital letters) is a reserved word and can also be the product of importing data with unknown data type.\n",
    "- `Inf` and `-Inf`: They stands for infinity (or negative infinity) and is a result of storing  either a large number or a product that is a result of division by zero. Inf is a reserved word and is – in most cases – product of computations in R language and therefore very rarely a product of data import. Infinite also tells you that the value is not missing and a number!\n",
    "- NaN: Not A Number. It is a logical vector of a length 1 and applies to numerical values, as well as real and imaginary parts of complex values, but not to values of integer vector. NaN is a reserved word.\n",
    "- NULL: It is an object and is returned when an expression or function results in an undefined value. In R language, NULL (capital letters) is a reserved word and can also be the product of importing data with unknown data type.\n",
    "\n",
    "Contents referenced from [R null values: NULL, NA, NaN, Inf](https://www.r-bloggers.com/r-null-values-null-na-nan-inf/)\n",
    "\n",
    "## R Coding Standard\n",
    "\n",
    "Please go through [Google's R Style Guide](https://google.github.io/styleguide/Rguide.html).\n",
    "\n",
    "Personally, I often rely on the auto-formatting functionality from RStudio. You can find it at `Code -> Reformat Code`. But it is only for R scripts.\n"
   ]
  }
 ],
 "metadata": {
  "Rmd_header": {
   "author": "Weiming Hu",
   "date": "September 3, 2019",
   "output": "pdf_document",
   "title": "R Basics 2"
  },
  "kernelspec": {
   "display_name": "R",
   "language": "R",
   "name": "ir"
  },
  "language_info": {
   "codemirror_mode": "r",
   "file_extension": ".r",
   "mimetype": "text/x-r-source",
   "name": "R",
   "pygments_lexer": "r"
  }
 },
 "nbformat": 4,
 "nbformat_minor": 0
}
